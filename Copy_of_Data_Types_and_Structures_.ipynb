{
  "nbformat": 4,
  "nbformat_minor": 0,
  "metadata": {
    "colab": {
      "provenance": []
    },
    "kernelspec": {
      "name": "python3",
      "display_name": "Python 3"
    },
    "language_info": {
      "name": "python"
    }
  },
  "cells": [
    {
      "cell_type": "code",
      "execution_count": null,
      "metadata": {
        "id": "42-9sgqrA0EX"
      },
      "outputs": [],
      "source": [
        "# 1]What are data structures, and why are they important?\n",
        "   -Data structures are ways of organizing and storing data in a computer so that it can be accessed and modified efficiently. They define the relationship between the data and the operations that can be performed on it.\n",
        "   -Why Data Structures Are Important:\n",
        "Efficiency: The right data structure improves time and space complexity of algorithms.\n",
        "Code Optimization: Better structures lead to cleaner, more readable, and maintainable code.\n",
        "Problem Solving: Many real-world problems (routing, scheduling, data storage) are solved efficiently using proper data structures.\n",
        "Foundation for Algorithms: Most algorithms are built upon specific data structures (sorting, searching, pathfinding, etc.).\n",
        "System Performance: Impacts how systems (e.g., databases, file systems, network protocols) are designed for high performance.\n",
        "\n",
        "#2]Explain the difference between mutable and immutable data types with examples?\n",
        "   -simple explanation of mutable and immutable data types in Python, along with examples:\n",
        "Mutable Data Types:-\n",
        "Definition: Mutable data types can be changed after creation. That means you can modify, add, or remove elements without changing the object's identity.\n",
        "Examples:\n",
        "list\n",
        "dict\n",
        "set\n",
        "Example:\n",
        "python\n",
        "Copy\n",
        "Edit\n",
        "\n",
        "my_list = [1, 2, 3]\n",
        "print(id(my_list))  # Check memory location\n",
        "\n",
        "my_list.append(4)\n",
        "print(my_list)      # [1, 2, 3, 4]\n",
        "print(id(my_list))  # Same memory location (object is modified in place)\n",
        " Immutable Data Types\n",
        "Definition: Immutable data types cannot be changed after creation. Any modification results in a new object being created.\n",
        "\n",
        "Examples:\n",
        "int\n",
        "float\n",
        "str\n",
        "tuple\n",
        "\n",
        "Example:\n",
        "my_str = \"hello\"\n",
        "print(id(my_str))\n",
        "\n",
        "my_str += \" world\"\n",
        "print(my_str)\n",
        "print(id(my_str))\n",
        "\n",
        "#3] What are the main differences between lists and tuples in Python?\n",
        "   -Feature | List ([]) | Tuple (())\n",
        "Mutability |  Mutable (can be changed) |  Immutable (cannot be changed)\n",
        "Syntax | my_list = [1, 2, 3] | my_tuple = (1, 2, 3)\n",
        "Methods | More built-in methods (append, remove, etc.) | Fewer methods\n",
        "Performance | Slightly slower (because of mutability) | Faster (because of immutability)\n",
        "Use Case | When data may need to change | When data should stay constant\n",
        "Memory Usage | Uses more memory | Uses less memory\n",
        "Hashable? |  Not hashable (can't be used as dict keys)\n",
        "\n",
        "\n",
        "#4]Describe how dictionaries store data?\n",
        "   -Dictionaries in Python store data as key-value pairs using a highly efficient data structure called a hash table.\n",
        "\n",
        "\n",
        "#5]  Why might you use a set instead of a list in Python?\n",
        "   -1. Uniqueness\n",
        "A set automatically removes duplicates.\n",
        "Great when you want to keep only unique values.\n",
        "  2. Faster Lookup\n",
        "Sets offer faster membership testing (in operation) than lists.\n",
        "Time complexity:\n",
        "Set: O(1) average case\n",
        "List: O(n)\n",
        "   3. Set Operations\n",
        "Sets support mathematical operations like:\n",
        "Union (|)\n",
        "Intersection (&)\n",
        "Difference (-)\n",
        "Symmetric Difference (^)\n",
        "4. No Need for Order\n",
        "If you don't care about order of elements, sets are ideal.\n",
        "Sets are unordered collections.\n",
        "\n",
        "#6]What is a string in Python, and how is it different from a list?\n",
        "   -A list in Python is an ordered collection of items, which can be of any data type (including strings). Lists are defined using square brackets []\n",
        "\n",
        "\n",
        "#7]How do tuples ensure data integrity in Python?\n",
        "   -Once a tuple is created, its elements cannot be changed, added, or removed. This means:\n",
        "You can't accidentally modify the data.\n",
        "You can safely pass tuples around your code without worrying about unexpected side effects.\n",
        "   -. Hashability\n",
        "Because tuples are immutable, they are hashable (if all their elements are also hashable). This allows them to be used as:\n",
        "Keys in dictionaries\n",
        "Elements in sets\n",
        "   -3. Reliable Data Containers\n",
        "Tuples are often used to group related but different types of data (like a lightweight object or record), especially when the structure is fixed.\n",
        "Example: Return multiple values from a function.\n",
        "\n",
        "\n",
        "#8]What is a hash table, and how does it relate to dictionaries in Python?\n",
        "   -A hash table is a data structure that allows you to store key-value pairs and retrieve values efficiently using keys. It works by using a hash function to convert keys into indices in an array (called the hash table), where the corresponding values are stored.\n",
        "\n",
        "Hash Function: Converts a key into an index.\n",
        "Collision: Happens when two keys hash to the same index. Common ways to handle this include chaining (storing multiple values at the same index using a list) or open addressing.\n",
        "Efficiency: Hash tables provide average-case O(1) time complexity for insertions, deletions, and lookups.\n",
        "\n",
        "\n",
        "#9]Can lists contain different data types in Python?\n",
        "   -Yes, lists in Python can contain different data types.\n",
        "    -42 is an integer\n",
        "\"hello\" is a string\n",
        "3.14 is a float\n",
        "True is a boolean\n",
        "[1, 2, 3] is another list\n",
        "{\"key\": \"value\"} is a dictionary\n",
        "Python lists are dynamic and flexible, which makes them super handy when you want to group different types of items together. Let me know if you want to dive into list operations or examples!\n",
        "\n",
        "\n",
        "#10]Explain why strings are immutable in Python?\n",
        "   -Strings are immutable in Python, which means once a string is created, it cannot be changed.\n",
        "\n",
        "\n",
        "#11]What advantages do dictionaries offer over lists for certain tasks?\n",
        "   -Dictionaries offer several advantages over lists for specific tasks, mainly due to their structure and access patterns. Here are the key benefits:\n",
        "Faster Lookups (Constant Time Complexity):\n",
        "Dictionaries provide O(1) average-time complexity for lookups, meaning you can access values in constant time based on their keys. This is much faster than lists, where you may need to traverse the entire list to find an element, leading to O(n) time complexity.\n",
        "Key-Value Pairs\n",
        "Dictionaries store data as key-value pairs, making it ideal for tasks where you need to associate one piece of data (the key) with another (the value). For example, when you need to store and retrieve user information by their unique IDs, dictionaries are more suitable than lists.\n",
        "Uniqueness of Keys\n",
        "In a dictionary, each key must be unique, which makes it easier to prevent duplicate entries and ensures that data is organized more effectively. Lists, on the other hand, can contain duplicate elements.\n",
        "Efficient Updates:\n",
        "Modifying a value for a specific key in a dictionary is a simple, fast operation, while in a list, you might need to search for the element first, which adds overhead.\n",
        "Dictionaries allow you to use more complex data types (like strings, integers, or tuples) as keys, whereas lists are indexed numerically. This allows for greater flexibility when mapping relationships between elements.\n",
        "No Need for Indexing:\n",
        "In a dictionary, you don't need to know the index to access the data; you just use the key. This simplifies the logic when you don’t need an ordered sequence but still need fast lookups.\n",
        "Readable Code\n",
        "Using meaningful keys in a dictionary can make the code more readable and self-documenting. For instance, user['age'] is more intuitive than accessing a list element via an index (like user[2]), especially when the data structure is complex.\n",
        "\n",
        "\n",
        "#12]  Describe a scenario where using a tuple would be preferable over a list?\n",
        "   -Let’s say you're working on a mapping application where you need to store and use geographic coordinates (latitude, longitude). These values should not change once they're assigned to a particular location.\n",
        "   -Why a tuple is preferable here:\n",
        "Immutability: Tuples are immutable, so the coordinates cannot be accidentally modified somewhere else in the code.\n",
        "Data Integrity: Ensures that the structure and number of elements (only two: lat & long) remain constant.\n",
        "Performance: Tuples use slightly less memory and can be faster than lists in iteration and access.\n",
        "Hashable: Tuples can be used as keys in dictionaries or added to sets (if they contain only immutable elements), whereas lists cannot.\n",
        "\n",
        "\n",
        "#13]How do sets handle duplicate values in Python?\n",
        "   -In Python, sets automatically eliminate duplicate values. A set is an unordered collection of unique elements, which means:\n",
        "If you try to add a duplicate value to a set, it will not be added again.\n",
        "When a set is created from a list (or any iterable) containing duplicates, only unique elements are kept.\n",
        "\n",
        "#14]How does the “in” keyword work differently for lists and dictionaries?\n",
        "   -in keyword is used in Python to check for membership, but it behaves slightly differently when used with lists and dictionaries\n",
        "\n",
        "#15] Can you modify the elements of a tuple? Explain why or why not?\n",
        "   -No, you cannot modify the elements of a tuple in Python because tuples are immutable.\n",
        "\n",
        "#16]What is a nested dictionary, and give an example of its use case?\n",
        "   -A nested dictionary is a dictionary where the value associated with a key is itself another dictionary. This is useful for representing hierarchical or structured data, such as data with multiple levels of keys and values.\n",
        "\n",
        "            example:-\n",
        "                            nested_dict = {\n",
        "    \"employee1\": {\n",
        "        \"name\": \"Alice\",\n",
        "        \"age\": 30,\n",
        "        \"department\": \"HR\"\n",
        "    },\n",
        "    \"employee2\": {\n",
        "        \"name\": \"Bob\",\n",
        "        \"age\": 25,\n",
        "        \"department\": \"IT\"\n",
        "    }\n",
        "}\n",
        "\n",
        "\n",
        "#17]Describe the time complexity of accessing elements in a dictionary?\n",
        "   -Accessing elements in a dictionary in Python has an average-case time complexity of O(1) — constant time.\n",
        "\n",
        "Why O(1) on average?\n",
        "Python dictionaries are implemented using hash tables, which allow for:\n",
        "Fast lookups,\n",
        "Insertions,\n",
        "Deletions.\n",
        "\n",
        "When you access a value using a key like my_dict[key], Python:\n",
        "Calculates the hash of the key.\n",
        "Uses it to find the index in the internal array.\n",
        "Retrieves the value at that index.\n",
        "Worst-case time complexity:\n",
        "O(n) — in rare cases (e.g., hash collisions where multiple keys hash to the same index).\n",
        "Python uses techniques like hash randomization and open addressing to reduce collision impact.\n",
        "So, in real-world usage, dictionary access is very fast and efficient — typically O(1).\n",
        "\n",
        "\n",
        "#18]In what situations are lists preferred over dictionarie?\n",
        "   -Order Matters (and you need to preserve it):\n",
        "Lists maintain insertion order, and sometimes you care about the position of elements (e.g., in ordered processing, queue-like scenarios).\n",
        "Example: Maintaining a sequence of tasks, user actions, or sorted values.\n",
        "You Only Need Values, Not Key-Value Pairs:\n",
        "\n",
        "If your data is just a collection of items without associated labels.\n",
        "Example: A list of usernames, IDs, or numbers.\n",
        "\n",
        "You Need Index-Based Access:\n",
        "Lists support direct access via indices (my_list[0], my_list[1], etc.).\n",
        "Example: Navigating elements with their position (like in pagination or looping).\n",
        "You Want to Perform Sorting or Slicing:\n",
        "\n",
        "Lists can be sorted easily (sorted(my_list) or my_list.sort()) and support slicing (my_list[1:5]).\n",
        "Example: Sorting scores or slicing time-series data.\n",
        "\n",
        "Memory Efficiency (Sometimes):\n",
        "Lists can be more memory-efficient than dictionaries if you don’t need the overhead of keys.\n",
        "\n",
        "\n",
        "#19]Why are dictionaries considered unordered, and how does that affect data retrieval?\n",
        "   -Dictionaries in Python are considered unordered (prior to version 3.7) because they were implemented using hash tables, and the order in which key-value pairs were stored wasn't guaranteed to be consistent. That meant if you inserted items into a dictionary, the order in which you retrieved them could be different.\n",
        "\n",
        "\n",
        "#20]Explain the difference between a list and a dictionary in terms of data retrieval?\n",
        "  -The main difference between a list and a dictionary in terms of data retrieval lies in how you access elements and what kind of keys or indexes you use.\n",
        "\n",
        "\n",
        "\n",
        "\n",
        "\n",
        "\n"
      ]
    },
    {
      "cell_type": "code",
      "source": [
        "#1]  Write a code to create a string with your name and print it?\n",
        "\n",
        "name = \"Rupesh Shinde\"\n",
        "print(\"My name is:\", name)\n"
      ],
      "metadata": {
        "colab": {
          "base_uri": "https://localhost:8080/"
        },
        "id": "AEjGzdg1PhcB",
        "outputId": "c6778706-a491-4c29-d72b-937685a4adb8"
      },
      "execution_count": null,
      "outputs": [
        {
          "output_type": "stream",
          "name": "stdout",
          "text": [
            "My name is: Rupesh Shinde\n"
          ]
        }
      ]
    },
    {
      "cell_type": "code",
      "source": [
        "#2]Write a code to find the length of the string \"Hello World?\n",
        "\n",
        "text = \"Hello World\"\n",
        "length = len(text)\n",
        "print(\"Length of the string:\", length)\n",
        "\n",
        "\n"
      ],
      "metadata": {
        "colab": {
          "base_uri": "https://localhost:8080/"
        },
        "id": "dyW5Sy4iQV7l",
        "outputId": "17d8744a-46d0-4902-8197-c67822b1cf73"
      },
      "execution_count": null,
      "outputs": [
        {
          "output_type": "stream",
          "name": "stdout",
          "text": [
            "Length of the string: 11\n"
          ]
        }
      ]
    },
    {
      "cell_type": "code",
      "source": [
        "#3]Write a code to slice the first 3 characters from the string \"Python Programming?\n",
        "\n",
        "text = \"Python Programming\"\n",
        "sliced_text = text[:3]\n",
        "print(sliced_text)\n"
      ],
      "metadata": {
        "colab": {
          "base_uri": "https://localhost:8080/"
        },
        "id": "fl8pp587QzI2",
        "outputId": "b078c23e-a696-4041-8038-5fc1edf4c902"
      },
      "execution_count": null,
      "outputs": [
        {
          "output_type": "stream",
          "name": "stdout",
          "text": [
            "Pyt\n"
          ]
        }
      ]
    },
    {
      "cell_type": "code",
      "source": [
        "#4]Write a code to convert the string \"hello\" to uppercase?\n",
        "\n",
        "text = \"hello\"\n",
        "uppercase_text = text.upper()\n",
        "print(uppercase_text)\n"
      ],
      "metadata": {
        "colab": {
          "base_uri": "https://localhost:8080/"
        },
        "id": "QRXuQlsVRBil",
        "outputId": "7dc1bb80-3d80-43a7-bb7f-9fd30fa5b81a"
      },
      "execution_count": null,
      "outputs": [
        {
          "output_type": "stream",
          "name": "stdout",
          "text": [
            "HELLO\n"
          ]
        }
      ]
    },
    {
      "cell_type": "code",
      "source": [
        "#5] Write a code to replace the word \"apple\" with \"orange\" in the string \"I like apple\"?\n",
        "\n",
        "text = \"I like apple\"\n",
        "new_text = text.replace(\"apple\", \"orange\")\n",
        "print(new_text)\n"
      ],
      "metadata": {
        "colab": {
          "base_uri": "https://localhost:8080/"
        },
        "id": "JKxfEfWQRMdj",
        "outputId": "7362da51-c13a-4a1d-bc43-551b763e3ee7"
      },
      "execution_count": null,
      "outputs": [
        {
          "output_type": "stream",
          "name": "stdout",
          "text": [
            "I like orange\n"
          ]
        }
      ]
    },
    {
      "cell_type": "code",
      "source": [
        "#6]Write a code to create a list with numbers 1 to 5 and print it?\n",
        "\n",
        "numbers = [1, 2, 3, 4, 5]\n",
        "print(numbers)\n"
      ],
      "metadata": {
        "colab": {
          "base_uri": "https://localhost:8080/"
        },
        "id": "vdOxPdClSBu0",
        "outputId": "c3c765f1-bae5-4012-a2d3-6d7e56669249"
      },
      "execution_count": null,
      "outputs": [
        {
          "output_type": "stream",
          "name": "stdout",
          "text": [
            "[1, 2, 3, 4, 5]\n"
          ]
        }
      ]
    },
    {
      "cell_type": "code",
      "source": [
        "#7]Write a code to append the number 10 to the list [1, 2, 3, 4]?\n",
        "\n",
        "my_list = [1, 2, 3, 4]\n",
        "my_list.append(10)\n",
        "print(my_list)\n"
      ],
      "metadata": {
        "colab": {
          "base_uri": "https://localhost:8080/"
        },
        "id": "sXhrD7TVSNqC",
        "outputId": "d5851c10-1749-4fb2-ca90-59a0741eae2a"
      },
      "execution_count": null,
      "outputs": [
        {
          "output_type": "stream",
          "name": "stdout",
          "text": [
            "[1, 2, 3, 4, 10]\n"
          ]
        }
      ]
    },
    {
      "cell_type": "code",
      "source": [
        "#8]Write a code to remove the number 3 from the list [1, 2, 3, 4, 5]?\n",
        "\n",
        "numbers = [1, 2, 3, 4, 5]\n",
        "numbers.remove(3)\n",
        "print(numbers)\n"
      ],
      "metadata": {
        "colab": {
          "base_uri": "https://localhost:8080/"
        },
        "id": "iJ8FMPHySZR6",
        "outputId": "41aff599-fa58-42bd-d1c8-bc4b22c007fa"
      },
      "execution_count": null,
      "outputs": [
        {
          "output_type": "stream",
          "name": "stdout",
          "text": [
            "[1, 2, 4, 5]\n"
          ]
        }
      ]
    },
    {
      "cell_type": "code",
      "source": [
        "#9] Write a code to access the second element in the list ['a', 'b', 'c', 'd']?\n",
        "\n",
        "my_list = ['a', 'b', 'c', 'd']\n",
        "second_element = my_list[1]\n",
        "print(\"The second element is:\", second_element)\n"
      ],
      "metadata": {
        "colab": {
          "base_uri": "https://localhost:8080/"
        },
        "id": "3D64JLCeSluR",
        "outputId": "936ec8bb-7f22-4e06-adab-a89bc016164e"
      },
      "execution_count": null,
      "outputs": [
        {
          "output_type": "stream",
          "name": "stdout",
          "text": [
            "The second element is: b\n"
          ]
        }
      ]
    },
    {
      "cell_type": "code",
      "source": [
        "#10] Write a code to reverse the list [10, 20, 30, 40, 50]?\n",
        "\n",
        "numbers = [10, 20, 30, 40, 50]\n",
        "reversed_numbers = numbers[::-1]\n",
        "print(reversed_numbers)"
      ],
      "metadata": {
        "colab": {
          "base_uri": "https://localhost:8080/"
        },
        "id": "sbMbVzr2Tbbk",
        "outputId": "97fa74f4-121d-41dc-dfaf-5c9c712973c0"
      },
      "execution_count": null,
      "outputs": [
        {
          "output_type": "stream",
          "name": "stdout",
          "text": [
            "[50, 40, 30, 20, 10]\n"
          ]
        }
      ]
    },
    {
      "cell_type": "code",
      "source": [
        "#11]  Write a code to create a tuple with the elements 100, 200, 300 and print it.\n",
        "\n",
        "my_tuple = (100, 200, 300)\n",
        "print(my_tuple)"
      ],
      "metadata": {
        "colab": {
          "base_uri": "https://localhost:8080/"
        },
        "id": "1kNludsjTnz1",
        "outputId": "b696b437-8a02-418f-dcf4-f6ab695c11bf"
      },
      "execution_count": null,
      "outputs": [
        {
          "output_type": "stream",
          "name": "stdout",
          "text": [
            "(100, 200, 300)\n"
          ]
        }
      ]
    },
    {
      "cell_type": "code",
      "source": [
        "#12] Write a code to access the second-to-last element of the tuple ('red', 'green', 'blue', 'yellow')\n",
        "\n",
        "colors = ('red', 'green', 'blue', 'yellow')\n",
        "second_to_last = colors[-2]\n",
        "print(second_to_last)"
      ],
      "metadata": {
        "colab": {
          "base_uri": "https://localhost:8080/"
        },
        "id": "dIooW3MFTxgQ",
        "outputId": "ea54e8ab-56e9-435c-8715-54bdb2586531"
      },
      "execution_count": null,
      "outputs": [
        {
          "output_type": "stream",
          "name": "stdout",
          "text": [
            "blue\n"
          ]
        }
      ]
    },
    {
      "cell_type": "code",
      "source": [
        "#13]Write a code to find the minimum number in the tuple (10, 20, 5, 15)\n",
        "\n",
        "numbers = (10, 20, 5, 15)\n",
        "minimum = min(numbers)\n",
        "print(\"Minimum number in the tuple is:\", minimum)\n"
      ],
      "metadata": {
        "colab": {
          "base_uri": "https://localhost:8080/"
        },
        "id": "PVVYD49LT7p3",
        "outputId": "76338ff1-9ee1-410f-8a19-f00a72d81c74"
      },
      "execution_count": null,
      "outputs": [
        {
          "output_type": "stream",
          "name": "stdout",
          "text": [
            "Minimum number in the tuple is: 5\n"
          ]
        }
      ]
    },
    {
      "cell_type": "code",
      "source": [
        "#14]Write a code to find the index of the element \"cat\" in the tuple ('dog', 'cat', 'rabbit')\n",
        "\n",
        "my_tuple = ('dog', 'cat', 'rabbit')\n",
        "index_of_cat = my_tuple.index('cat')\n",
        "print(\"Index of 'cat':\", index_of_cat)\n"
      ],
      "metadata": {
        "colab": {
          "base_uri": "https://localhost:8080/"
        },
        "id": "TmtZHFo0UJRx",
        "outputId": "cf411198-139f-4c96-f7ac-8b9386a03c01"
      },
      "execution_count": null,
      "outputs": [
        {
          "output_type": "stream",
          "name": "stdout",
          "text": [
            "Index of 'cat': 1\n"
          ]
        }
      ]
    },
    {
      "cell_type": "code",
      "source": [
        "#15] Write a code to create a tuple containing three different fruits and check if \"kiwi\" is in it.\n",
        "\n",
        "\n",
        "fruits = (\"apple\", \"banana\", \"orange\")\n",
        "if \"kiwi\" in fruits:\n",
        "    print(\"Kiwi is in the tuple.\")\n",
        "else:\n",
        "    print(\"Kiwi is not in the tuple.\")\n"
      ],
      "metadata": {
        "colab": {
          "base_uri": "https://localhost:8080/"
        },
        "id": "mQ5jPlJFUhjA",
        "outputId": "39af3ec0-dbc4-4f0a-e31a-4e1d3919b1ca"
      },
      "execution_count": null,
      "outputs": [
        {
          "output_type": "stream",
          "name": "stdout",
          "text": [
            "Kiwi is not in the tuple.\n"
          ]
        }
      ]
    },
    {
      "cell_type": "code",
      "source": [
        "#16]Write a code to create a set with the elements 'a', 'b', 'c' and print it\n",
        "\n",
        "\n",
        "my_set = {'a', 'b', 'c'}\n",
        "print(my_set)\n"
      ],
      "metadata": {
        "colab": {
          "base_uri": "https://localhost:8080/"
        },
        "id": "68_pYFkuU81e",
        "outputId": "39678c2a-f7d6-4696-f765-585fe816291c"
      },
      "execution_count": null,
      "outputs": [
        {
          "output_type": "stream",
          "name": "stdout",
          "text": [
            "{'a', 'c', 'b'}\n"
          ]
        }
      ]
    },
    {
      "cell_type": "code",
      "source": [
        "#17]Write a code to clear all elements from the set {1, 2, 3, 4, 5}\n",
        "\n",
        "my_set = {1, 2, 3, 4, 5}\n",
        "my_set.clear()\n",
        "print(my_set)\n"
      ],
      "metadata": {
        "colab": {
          "base_uri": "https://localhost:8080/"
        },
        "id": "AOOr10mfVMQo",
        "outputId": "5fe26770-83bb-4710-fe26-5ef45e22675e"
      },
      "execution_count": null,
      "outputs": [
        {
          "output_type": "stream",
          "name": "stdout",
          "text": [
            "set()\n"
          ]
        }
      ]
    },
    {
      "cell_type": "code",
      "source": [
        "#18] Write a code to remove the element 4 from the set {1, 2, 3, 4}\n",
        "\n",
        "my_set = {1, 2, 3, 4}\n",
        "my_set.remove(4)\n",
        "print(my_set)\n"
      ],
      "metadata": {
        "colab": {
          "base_uri": "https://localhost:8080/"
        },
        "id": "n9Sn_OhcV-ec",
        "outputId": "859ba7a5-8a02-4b8a-ad8b-c069be3c343f"
      },
      "execution_count": null,
      "outputs": [
        {
          "output_type": "stream",
          "name": "stdout",
          "text": [
            "{1, 2, 3}\n"
          ]
        }
      ]
    },
    {
      "cell_type": "code",
      "source": [
        "#19]Write a code to find the union of two sets {1, 2, 3} and {3, 4, 5}\n",
        "set1 = {1, 2, 3}\n",
        "set2 = {3, 4, 5}\n",
        "\n",
        "union_set = set1.union(set2)\n",
        "print(union_set)\n"
      ],
      "metadata": {
        "colab": {
          "base_uri": "https://localhost:8080/"
        },
        "id": "sSSgER6QWKoy",
        "outputId": "e3ba9765-7cd3-47d3-bee7-c41fa6664556"
      },
      "execution_count": null,
      "outputs": [
        {
          "output_type": "stream",
          "name": "stdout",
          "text": [
            "{1, 2, 3, 4, 5}\n"
          ]
        }
      ]
    },
    {
      "cell_type": "code",
      "source": [
        "#20]Write a code to find the intersection of two sets {1, 2, 3} and {2, 3, 4}.\n",
        "\n",
        "set1 = {1, 2, 3}\n",
        "set2 = {2, 3, 4}\n",
        "\n",
        "intersection = set1 & set2\n",
        "print(\"Intersection:\", intersection)\n"
      ],
      "metadata": {
        "colab": {
          "base_uri": "https://localhost:8080/"
        },
        "id": "KKVAw7MGWb_T",
        "outputId": "eef3d3b8-ade9-428d-a3b8-dfbe87c6e2b9"
      },
      "execution_count": null,
      "outputs": [
        {
          "output_type": "stream",
          "name": "stdout",
          "text": [
            "Intersection: {2, 3}\n"
          ]
        }
      ]
    },
    {
      "cell_type": "code",
      "source": [
        "#21]Write a code to create a dictionary with the keys \"name\", \"age\", and \"city\", and print it.\n",
        "\n",
        "person = {\n",
        "    \"name\": \"John Doe\",\n",
        "    \"age\": 30,\n",
        "    \"city\": \"New York\"\n",
        "}\n",
        "print(person)\n"
      ],
      "metadata": {
        "colab": {
          "base_uri": "https://localhost:8080/"
        },
        "id": "3RDPzDR-hh4j",
        "outputId": "26aead0a-7f1b-47a5-f4c2-b9baa4ceb37c"
      },
      "execution_count": null,
      "outputs": [
        {
          "output_type": "stream",
          "name": "stdout",
          "text": [
            "{'name': 'John Doe', 'age': 30, 'city': 'New York'}\n"
          ]
        }
      ]
    },
    {
      "cell_type": "code",
      "source": [
        "#22] Write a code to add a new key-value pair \"country\": \"USA\" to the dictionary {'name': 'John', 'age': 25}.\n",
        "person = {'name': 'John', 'age': 25}\n",
        "person['country'] = 'USA'\n",
        "\n",
        "print(person)\n"
      ],
      "metadata": {
        "colab": {
          "base_uri": "https://localhost:8080/"
        },
        "id": "vmx4QanMhzM_",
        "outputId": "0bd9ef7d-e587-44f1-d9bf-5333df480e75"
      },
      "execution_count": null,
      "outputs": [
        {
          "output_type": "stream",
          "name": "stdout",
          "text": [
            "{'name': 'John', 'age': 25, 'country': 'USA'}\n"
          ]
        }
      ]
    },
    {
      "cell_type": "code",
      "source": [
        "#23]Write a code to access the value associated with the key \"name\" in the dictionary {'name': 'Alice', 'age': 30}.\n",
        "\n",
        "person = {'name': 'Alice', 'age': 30}\n",
        "name_value = person['name']\n",
        "print(name_value)\n"
      ],
      "metadata": {
        "colab": {
          "base_uri": "https://localhost:8080/"
        },
        "id": "oTAmXCwfiB-W",
        "outputId": "d8134c2e-0df9-4817-d9e0-384c78eaec81"
      },
      "execution_count": null,
      "outputs": [
        {
          "output_type": "stream",
          "name": "stdout",
          "text": [
            "Alice\n"
          ]
        }
      ]
    },
    {
      "cell_type": "code",
      "source": [
        "#24]Write a code to remove the key \"age\" from the dictionary {'name': 'Bob', 'age': 22, 'city': 'New York'}\n",
        "\n",
        "person = {'name': 'Bob', 'age': 22, 'city': 'New York'}\n",
        "person.pop('age', None)\n",
        "print(person)\n"
      ],
      "metadata": {
        "colab": {
          "base_uri": "https://localhost:8080/"
        },
        "id": "8hGxGSpPiMhk",
        "outputId": "e5e7e816-c63f-42fd-c552-29984850d7bf"
      },
      "execution_count": null,
      "outputs": [
        {
          "output_type": "stream",
          "name": "stdout",
          "text": [
            "{'name': 'Bob', 'city': 'New York'}\n"
          ]
        }
      ]
    },
    {
      "cell_type": "code",
      "source": [
        "#25]Write a code to check if the key \"city\" exists in the dictionary {'name': 'Alice', 'city': 'Paris'}\n",
        "\n",
        "data = {'name': 'Alice', 'city': 'Paris'}\n",
        "\n",
        "if 'city' in data:\n",
        "    print(\"Key 'city' exists in the dictionary.\")\n",
        "else:\n",
        "    print(\"Key 'city' does not exist in the dictionary.\")\n"
      ],
      "metadata": {
        "colab": {
          "base_uri": "https://localhost:8080/"
        },
        "id": "K-Ok-Zabibmd",
        "outputId": "d832de55-33ff-4dbc-c848-0067d3ca91cc"
      },
      "execution_count": null,
      "outputs": [
        {
          "output_type": "stream",
          "name": "stdout",
          "text": [
            "Key 'city' exists in the dictionary.\n"
          ]
        }
      ]
    },
    {
      "cell_type": "code",
      "source": [
        "#26] Write a code to create a list, a tuple, and a dictionary, and print them all.\n",
        "\n",
        "\n",
        "my_list = [1, 2, 3, 4, 5]\n",
        "my_tuple = ('apple', 'banana', 'cherry')\n",
        "my_dict = {'name': 'Sidharth', 'age': 25, 'city': 'Pune'}\n",
        "\n",
        "print(\"List:\", my_list)\n",
        "print(\"Tuple:\", my_tuple)\n",
        "print(\"Dictionary:\", my_dict)\n"
      ],
      "metadata": {
        "colab": {
          "base_uri": "https://localhost:8080/"
        },
        "id": "rjvoJoDRio-l",
        "outputId": "5b2acb69-ec75-4c2e-95ba-656fe8176e64"
      },
      "execution_count": null,
      "outputs": [
        {
          "output_type": "stream",
          "name": "stdout",
          "text": [
            "List: [1, 2, 3, 4, 5]\n",
            "Tuple: ('apple', 'banana', 'cherry')\n",
            "Dictionary: {'name': 'Sidharth', 'age': 25, 'city': 'Pune'}\n"
          ]
        }
      ]
    },
    {
      "cell_type": "code",
      "source": [
        "#27] Write a code to create a list of 5 random numbers between 1 and 100, sort it in ascending order, and print the result\n",
        "\n",
        "import random\n",
        "random_numbers = random.sample(range(1, 101), 5)\n",
        "random_numbers.sort()\n",
        "\n",
        "print(\"Sorted random numbers:\", random_numbers)\n"
      ],
      "metadata": {
        "colab": {
          "base_uri": "https://localhost:8080/"
        },
        "id": "8ow8F3kPjXZJ",
        "outputId": "3c6dfbd8-5b36-4ed2-c2cb-6b406b37e12c"
      },
      "execution_count": null,
      "outputs": [
        {
          "output_type": "stream",
          "name": "stdout",
          "text": [
            "Sorted random numbers: [24, 26, 29, 42, 44]\n"
          ]
        }
      ]
    },
    {
      "cell_type": "code",
      "source": [
        "#28]Write a code to create a list with strings and print the element at the third index.\n",
        "\n",
        "my_list = [\"apple\", \"banana\", \"cherry\", \"date\", \"elderberry\"]\n",
        "\n",
        "print(\"Element at index 3:\", my_list[3])\n"
      ],
      "metadata": {
        "colab": {
          "base_uri": "https://localhost:8080/"
        },
        "id": "jipjy117jtFp",
        "outputId": "5f11839c-899b-4ee0-8652-18dad5f16426"
      },
      "execution_count": null,
      "outputs": [
        {
          "output_type": "stream",
          "name": "stdout",
          "text": [
            "Element at index 3: date\n"
          ]
        }
      ]
    },
    {
      "cell_type": "code",
      "source": [
        "#29] Write a code to combine two dictionaries into one and print the result.\n",
        "\n",
        "dict1 = {'a': 1, 'b': 2}\n",
        "dict2 = {'c': 3, 'd': 4}\n",
        "combined_dict = {**dict1, **dict2}\n",
        "print(\"Combined Dictionary:\", combined_dict)\n"
      ],
      "metadata": {
        "colab": {
          "base_uri": "https://localhost:8080/"
        },
        "id": "R3c-Ae0Zj6AE",
        "outputId": "5571f254-26a9-4210-ced2-d33e46e01672"
      },
      "execution_count": null,
      "outputs": [
        {
          "output_type": "stream",
          "name": "stdout",
          "text": [
            "Combined Dictionary: {'a': 1, 'b': 2, 'c': 3, 'd': 4}\n"
          ]
        }
      ]
    },
    {
      "cell_type": "code",
      "source": [
        "#30] Write a code to convert a list of strings into a set.\n",
        "\n",
        "a= [\"apple\", \"banana\", \"cherry\", \"apple\", \"cherry\"]\n",
        "b=list(map(set,a))\n",
        "print(b)\n",
        "\n"
      ],
      "metadata": {
        "colab": {
          "base_uri": "https://localhost:8080/"
        },
        "id": "eHoBUzOMkJjU",
        "outputId": "fe367e76-030e-42ad-f6d9-c6c32f62072e"
      },
      "execution_count": 2,
      "outputs": [
        {
          "output_type": "stream",
          "name": "stdout",
          "text": [
            "[{'e', 'a', 'p', 'l'}, {'a', 'b', 'n'}, {'y', 'h', 'r', 'e', 'c'}, {'e', 'a', 'p', 'l'}, {'y', 'h', 'r', 'e', 'c'}]\n"
          ]
        }
      ]
    }
  ]
}